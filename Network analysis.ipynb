{
 "cells": [
  {
   "cell_type": "markdown",
   "id": "610443e2",
   "metadata": {},
   "source": [
    "## Notebook for ENCN375 Lecture A: Systems Analysis\n",
    "\n",
    "In this notebook, we will look a little bit at networks, network analysis, Open Street Map, and plotting. \n",
    "\n",
    "> To run notebook cells, click inside the block (add to the code or write your own) and press <code>Ctrl+Enter</code>\n",
    "> If you've never used a Jupyter notebook before, you can practice with the first two blocks of code below"
   ]
  },
  {
   "cell_type": "code",
   "execution_count": null,
   "id": "8ad88348",
   "metadata": {},
   "outputs": [],
   "source": [
    "# We'll start by defining a simple function\n",
    "def hello_world(name):\n",
    "    # name is a string input\n",
    "    print('Hello, world this is '+name+'!')"
   ]
  },
  {
   "cell_type": "code",
   "execution_count": null,
   "id": "48f1e4c1",
   "metadata": {},
   "outputs": [],
   "source": [
    "# Now we can practice calling our function - try inputting the code you need below\n"
   ]
  },
  {
   "cell_type": "markdown",
   "id": "d3d77e1e",
   "metadata": {},
   "source": [
    "### Coding begins here\n",
    "\n",
    "Now that you've practiced, you can use the notebook below for the lecture activities. Blocks will add themselves to the notebook automatically, or you can use the '+' button on the top ribbon to add more. You can save your notebook and outputs when you're finished. "
   ]
  },
  {
   "cell_type": "code",
   "execution_count": 1,
   "id": "8833601a",
   "metadata": {},
   "outputs": [],
   "source": [
    "# Often we start by loading any packages we think we might need for our code\n",
    "# There's a few key ones we require for today, but you can call more if you're getting fancy:\n",
    "import pandas as pd\n",
    "import numpy as np\n",
    "import networkx as nx\n",
    "import osmnx as ox\n",
    "import matplotlib.pyplot as plt\n",
    "from matplotlib import cm"
   ]
  },
  {
   "cell_type": "markdown",
   "id": "032e5668",
   "metadata": {},
   "source": [
    "We'll start by looking at some network data and doing some simple network analysis. The <code>networkx</code> package has some empirical data that we will take advantage of for this lecture. \n",
    "\n",
    "We'll be loading and investigating the dataset called Zachary's Karate Club, a dataset that describes social connections between members of a university Karate Club. "
   ]
  },
  {
   "cell_type": "code",
   "execution_count": null,
   "id": "3cd17d99",
   "metadata": {},
   "outputs": [],
   "source": [
    "# first step is to load in the data - I've done this one for you\n",
    "g_karate = nx.karate_club_graph()"
   ]
  },
  {
   "cell_type": "code",
   "execution_count": null,
   "id": "fc063ea7",
   "metadata": {},
   "outputs": [],
   "source": [
    "# now, use the in-built functions to visualise the network\n"
   ]
  },
  {
   "cell_type": "code",
   "execution_count": null,
   "id": "7173cd3e",
   "metadata": {},
   "outputs": [],
   "source": [
    "# and to get a bit of information about the network\n"
   ]
  },
  {
   "cell_type": "code",
   "execution_count": null,
   "id": "5e7cb394",
   "metadata": {},
   "outputs": [],
   "source": []
  }
 ],
 "metadata": {
  "kernelspec": {
   "display_name": "Python 3 (ipykernel)",
   "language": "python",
   "name": "python3"
  },
  "language_info": {
   "codemirror_mode": {
    "name": "ipython",
    "version": 3
   },
   "file_extension": ".py",
   "mimetype": "text/x-python",
   "name": "python",
   "nbconvert_exporter": "python",
   "pygments_lexer": "ipython3",
   "version": "3.7.13"
  }
 },
 "nbformat": 4,
 "nbformat_minor": 5
}
