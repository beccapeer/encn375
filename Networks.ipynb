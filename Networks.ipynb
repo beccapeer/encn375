{
 "cells": [
  {
   "cell_type": "markdown",
   "id": "2f12958d",
   "metadata": {},
   "source": [
    "## Notebook for ENCN375 Lecture A: Systems Analysis\n",
    "\n",
    "In this notebook, we will look a little bit at networks, network analysis, Open Street Map, and plotting. \n",
    "\n",
    "> To run notebook cells, click inside the block (add to the code or write your own) and press <code>Ctrl+Enter</code>\n",
    "> If you've never used a Jupyter notebook before, you can practice with the first two blocks of code below"
   ]
  },
  {
   "cell_type": "code",
   "execution_count": null,
   "id": "ad204082",
   "metadata": {},
   "outputs": [],
   "source": [
    "# We'll start by defining a simple function\n",
    "def hello_world(name):\n",
    "    # name is a string input\n",
    "    print('Hello, world this is '+name+'!')"
   ]
  },
  {
   "cell_type": "code",
   "execution_count": null,
   "id": "3d2f08dd",
   "metadata": {},
   "outputs": [],
   "source": [
    "# Now we can practice calling our function - try inputting the code you need below\n"
   ]
  },
  {
   "cell_type": "markdown",
   "id": "5242a90d",
   "metadata": {},
   "source": [
    "### Coding begins here\n",
    "\n",
    "Now that you've practiced, you can use the notebook below for the lecture activities. Blocks will add themselves to the notebook automatically, or you can use the '+' button on the top ribbon to add more. You can save your notebook and outputs when you're finished. "
   ]
  },
  {
   "cell_type": "code",
   "execution_count": 1,
   "id": "ba4a1446",
   "metadata": {},
   "outputs": [],
   "source": [
    "# Often we start by loading any packages we think we might need for our code\n",
    "# There's a few key ones we require for today, but you can call more if you're getting fancy:\n",
    "import pandas as pd\n",
    "import numpy as np\n",
    "import networkx as nx\n",
    "import osmnx as ox\n",
    "import matplotlib.pyplot as plt\n",
    "from matplotlib import cm\n",
    "%matplotlib inline"
   ]
  },
  {
   "cell_type": "markdown",
   "id": "eafba1b6",
   "metadata": {},
   "source": [
    "We'll start by looking at some network data and doing some simple network analysis. The <code>networkx</code> package has some empirical data that we will take advantage of for this lecture. \n",
    "\n",
    "We'll be loading and investigating the dataset called Zachary's Karate Club, a dataset that describes social connections between members of a university Karate Club. \n",
    "\n",
    "We'll refer to the package documents to help us find useful functions within <code>networkx</code>. They can be found <a href=https://networkx.org/documentation/stable/reference/index.html>here</a>."
   ]
  },
  {
   "cell_type": "code",
   "execution_count": null,
   "id": "53e134a2",
   "metadata": {},
   "outputs": [],
   "source": [
    "# first step is to load in the data - I've done this one for you\n",
    "g_karate = nx.karate_club_graph()"
   ]
  },
  {
   "cell_type": "code",
   "execution_count": null,
   "id": "67dc54ea",
   "metadata": {},
   "outputs": [],
   "source": [
    "# now, use the in-built functions to visualise the network\n"
   ]
  },
  {
   "cell_type": "code",
   "execution_count": null,
   "id": "a91a452f",
   "metadata": {},
   "outputs": [],
   "source": [
    "# plot the network with a different layout using the built-in functions\n"
   ]
  },
  {
   "cell_type": "code",
   "execution_count": null,
   "id": "32e0dacb",
   "metadata": {},
   "outputs": [],
   "source": [
    "# Get a bit of information about the network. What sort of data are we looking at?\n"
   ]
  },
  {
   "cell_type": "code",
   "execution_count": null,
   "id": "07788e0d",
   "metadata": {},
   "outputs": [],
   "source": [
    "# now, use networkx to calculate some basic network statistics. Print out your results. \n",
    "nodes =  ??\n",
    "links = ??\n",
    "beta = ??\n",
    "density = ??"
   ]
  },
  {
   "cell_type": "code",
   "execution_count": null,
   "id": "fb0bf470",
   "metadata": {},
   "outputs": [],
   "source": [
    "# next we'll look at the nodes themselves. Calculate the degree, closeness, and betweenness of the nodes\n",
    "# store your answers in a dataframe and print them out\n",
    "degree = ??\n",
    "cc = ??\n",
    "bc = ??\n",
    "\n",
    "node_sts = pd.DataFrame(data=[??], columns=[??])"
   ]
  },
  {
   "cell_type": "code",
   "execution_count": null,
   "id": "ffe9cb12",
   "metadata": {},
   "outputs": [],
   "source": [
    "# lets make a quick histogram of node degrees. Change the default colour to something nicer and include axis titles\n"
   ]
  },
  {
   "cell_type": "markdown",
   "id": "051269af",
   "metadata": {},
   "source": [
    "Now that we've done a bit of work with networks in Python, let's familiarise ourselves with Open Street Map (OSM). OSM is a publicly accessible database of street and building footprints across the world. The <code>osmnx</code> package lets us easily access this database and convert information from OSM to networks. We'll take a simple example for this tutorial of Irvine, California. \n",
    "\n",
    "Similar to our network calculations above, we'll be referring to the docs to find the functions we need in the <code>osmnx</code> package - you'll find those <a href=https://osmnx.readthedocs.io/en/stable/osmnx.html>here</a>."
   ]
  },
  {
   "cell_type": "code",
   "execution_count": null,
   "id": "e040d8bd",
   "metadata": {},
   "outputs": [],
   "source": [
    "# download the street network for Irvine, Califonia\n",
    "G = ??"
   ]
  },
  {
   "cell_type": "code",
   "execution_count": null,
   "id": "34ce2fb4",
   "metadata": {},
   "outputs": [],
   "source": [
    "# visulise the street network\n",
    "fig, ax = ox.??"
   ]
  },
  {
   "cell_type": "code",
   "execution_count": null,
   "id": "c035cff5",
   "metadata": {},
   "outputs": [],
   "source": [
    "# take a look at the data in the network. What are the edge attributes?\n"
   ]
  },
  {
   "cell_type": "code",
   "execution_count": null,
   "id": "75f24d7b",
   "metadata": {},
   "outputs": [],
   "source": [
    "# calculate some basic network statistics using the in-built functions\n"
   ]
  },
  {
   "cell_type": "code",
   "execution_count": null,
   "id": "ae3db95f",
   "metadata": {},
   "outputs": [],
   "source": [
    "# find the most central node in terms of betweenness centrality. What percentage of roads pass through this node?\n"
   ]
  },
  {
   "cell_type": "code",
   "execution_count": null,
   "id": "85fba31c",
   "metadata": {},
   "outputs": [],
   "source": [
    "# plot the street network with the most central node highlighted\n"
   ]
  },
  {
   "cell_type": "markdown",
   "id": "065a4cf8",
   "metadata": {},
   "source": [
    "Now we'll do some fancy visualisation for closeness centrality by inverting our network (so that nodes become links and vice versa). We'll make use of a colourmap from <code>matplotlib</code> - more details <a href=https://matplotlib.org/stable/tutorials/colors/colormaps.html>here</a>."
   ]
  },
  {
   "cell_type": "code",
   "execution_count": null,
   "id": "332bf226",
   "metadata": {},
   "outputs": [],
   "source": [
    "# first, we convert our graph into a line graph, which accomplishes this \"flip\" for us\n",
    "G_line = nx.??\n",
    "\n",
    "# then we can calculate the closeness centrality of our new \"edges\"\n",
    "edge_cc = nx.??\n",
    "\n",
    "# and set this value as an edge attribute in our orignal (unflipped) network with the name \"edge closeness\"\n",
    "nx.??"
   ]
  },
  {
   "cell_type": "code",
   "execution_count": null,
   "id": "43b24822",
   "metadata": {},
   "outputs": [],
   "source": [
    "# to plot, we need to map our edge closeness attribute onto a colourmap\n",
    "e_clrs = ox.plot.??(??,??,cmap=??)"
   ]
  },
  {
   "cell_type": "code",
   "execution_count": null,
   "id": "6e558c0e",
   "metadata": {},
   "outputs": [],
   "source": [
    "# then we can plot, setting our edge colours to our mapped ones (above) and the node size to zero (for a clean plot)\n",
    "fig, ax = ox.??"
   ]
  }
 ],
 "metadata": {
  "kernelspec": {
   "display_name": "Python 3 (ipykernel)",
   "language": "python",
   "name": "python3"
  },
  "language_info": {
   "codemirror_mode": {
    "name": "ipython",
    "version": 3
   },
   "file_extension": ".py",
   "mimetype": "text/x-python",
   "name": "python",
   "nbconvert_exporter": "python",
   "pygments_lexer": "ipython3",
   "version": "3.8.13"
  }
 },
 "nbformat": 4,
 "nbformat_minor": 5
}
