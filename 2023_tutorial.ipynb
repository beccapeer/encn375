{
 "cells": [
  {
   "cell_type": "markdown",
   "id": "2f12958d",
   "metadata": {},
   "source": [
    "## Notebook for ENCN375: Sustainability Analysis\n",
    "\n",
    "In this notebook, we will look a little bit at how pull in and store data, how to use random distributions, and plotting. \n",
    "\n",
    "> To run notebook cells, click inside the block (add to the code or write your own) and press <code>Ctrl+Enter</code>\n",
    "> If you've never used a Jupyter notebook before, you can practice with the first two blocks of code below"
   ]
  },
  {
   "cell_type": "code",
   "execution_count": null,
   "id": "ad204082",
   "metadata": {},
   "outputs": [],
   "source": [
    "# We'll start by defining a simple function - remember this for later!\n",
    "def hello_world(name):\n",
    "    # name is a string input\n",
    "    print('Hello, world this is '+name+'!')"
   ]
  },
  {
   "cell_type": "code",
   "execution_count": null,
   "id": "3d2f08dd",
   "metadata": {},
   "outputs": [],
   "source": [
    "# Now we can practice calling our function - try inputting the code you need below\n"
   ]
  },
  {
   "cell_type": "markdown",
   "id": "5242a90d",
   "metadata": {},
   "source": [
    "### Coding begins here\n",
    "\n",
    "Now that you've practiced, you can use the notebook below for the lecture activities. Blocks will add themselves to the notebook automatically, or you can use the '+' button on the top ribbon to add more. You can save your notebook and outputs as a pdf when you're finished. "
   ]
  },
  {
   "cell_type": "code",
   "execution_count": null,
   "id": "ba4a1446",
   "metadata": {},
   "outputs": [],
   "source": [
    "# Often we start by loading any packages we think we might need for our code\n",
    "# There's a few key ones we require for today, but you can call more if you're getting fancy:\n",
    "import pandas as pd\n",
    "import numpy as np\n",
    "from scipy import stats\n",
    "import matplotlib.pyplot as plt\n",
    "%matplotlib inline"
   ]
  },
  {
   "cell_type": "markdown",
   "id": "eafba1b6",
   "metadata": {},
   "source": [
    "We'll start by looking at some transport emissions data and doing some basic carbon accounting. We'll build in a little bit of complexity with some random variables from known distributions using the <code>scipy</code> package. \n",
    "\n",
    "Remember, you can always refer to the package documents to help you find useful functions within e.g., the <code>scipy.stats</code> part of the package. Those can be found <a href=https://docs.scipy.org/doc/scipy/reference/stats.html>here</a>."
   ]
  },
  {
   "cell_type": "code",
   "execution_count": null,
   "id": "53e134a2",
   "metadata": {},
   "outputs": [],
   "source": [
    "# first step is to load in the data - I've done this for you, loading inputs in as pandas Data Frames\n",
    "ei_df = pd.read_csv('ei_tutorial2023.csv')\n",
    "in_df = pd.read_csv('inputs_tutorial2023.csv')"
   ]
  },
  {
   "cell_type": "markdown",
   "id": "b59df962",
   "metadata": {},
   "source": [
    "The data above describe your friend's fuel (petrol) and electricity (EV) consumption associated with their estimated daily travel distance along with the relevant emissions intensities. We'll use these simple values to run a comparison of the carbon footprint for travel with a petrol car versus an EV.  \n",
    "\n",
    "Now that we've loaded in our data, a useful way to store information (especially repetitve information and/or mixtures of information) is in python dictionaries. To practice, use the <code>zip()</code> function to pull your energy inputs and emissions intensities into dictionaries that have the same \"keys\" (i.e., the \"category\" column) and relevant values. (You can print the dataframes you've loaded in by adding a new code cell).\n"
   ]
  },
  {
   "cell_type": "code",
   "execution_count": null,
   "id": "a06c279a",
   "metadata": {},
   "outputs": [],
   "source": [
    "# first, you can take a look at the data by calling one (or both) of the input data variables\n",
    "ei_df"
   ]
  },
  {
   "cell_type": "code",
   "execution_count": null,
   "id": "4e2d908b",
   "metadata": {},
   "outputs": [],
   "source": [
    "# now, we \"zip\" together the columns we want to form our key-value pairs in a dictionary\n",
    "intensities = dict(zip(??,??))\n",
    "inputs = dict(zip(??,??))"
   ]
  },
  {
   "cell_type": "markdown",
   "id": "ba487365",
   "metadata": {},
   "source": [
    "Now, doing our carbon emissions calculation is straightforward with static values - simply multiplying our inputs and emissions values. Calculate these values and print your answers using a simple <a href=https://docs.python.org/3/tutorial/inputoutput.html>\"f-string\"</a>."
   ]
  },
  {
   "cell_type": "code",
   "execution_count": null,
   "id": "e3f05f98",
   "metadata": {},
   "outputs": [],
   "source": [
    "# for each key and value pair in our dictionaries, calculate the carbon emissions and print the value\n",
    "for k,v in inputs.items():\n",
    "    co_2 = ?? * ??\n",
    "    print(f\"The carbon emissions for the {??} category is {??} kg\")\n"
   ]
  },
  {
   "cell_type": "markdown",
   "id": "8c35e6d9",
   "metadata": {},
   "source": [
    "Now, if we wanted to calculate these emissions over time, let's say a 28-day period, we can add in some time-based information as well. Adjust your code above such that you get an output Data Frame with 28 rows of data (one for each day) and a column for each of our categories. "
   ]
  },
  {
   "cell_type": "code",
   "execution_count": null,
   "id": "9e66e5c0",
   "metadata": {},
   "outputs": [],
   "source": [
    "# first, set up a value-less dataframe to store our calculated values\n",
    "days = np.arange(1,??)\n",
    "df = pd.DataFrame(data=??,columns=['day'])\n",
    "\n",
    "# now, adjust your code above:\n",
    "for k,v in inputs.items():\n",
    "    df[??] = 0\n",
    "    co_2 = ?? * ??\n",
    "    df[??] = co_2"
   ]
  },
  {
   "cell_type": "code",
   "execution_count": null,
   "id": "f64fa1aa",
   "metadata": {},
   "outputs": [],
   "source": [
    "# print your new dataframe\n",
    "df"
   ]
  },
  {
   "cell_type": "markdown",
   "id": "41a2b7e5",
   "metadata": {},
   "source": [
    "Now let's introduce some variability. Suppose that your friend knows that they don't really drive exactly the distance they said they did every day, but they know it's close. We'll assume that their driving distance is approximately normally distributed, and we'll use a normal distribution with a mean of 1 and standard deviation of 0.2 to adjust the distance on any given day. \n",
    "\n",
    "First, let's set up the distribution:"
   ]
  },
  {
   "cell_type": "code",
   "execution_count": null,
   "id": "6cfa3488",
   "metadata": {},
   "outputs": [],
   "source": [
    "# using scipy.stats.norm(), set up the normal distribution\n",
    "n = stats.norm(loc=??, scale=??)"
   ]
  },
  {
   "cell_type": "markdown",
   "id": "a999568c",
   "metadata": {},
   "source": [
    "Now, let's pull 28 random variables and assign them to our calculation above. We'll start by building an array containing your rv's and then multiply them into your calculation. Importantly, we'll set the \"seed\" for our work so we all get replicable results. "
   ]
  },
  {
   "cell_type": "code",
   "execution_count": null,
   "id": "0cb13a64",
   "metadata": {},
   "outputs": [],
   "source": [
    "np.random.seed(375)\n",
    "count = 28\n",
    "rvs = n.rvs(size=??)\n",
    "\n",
    "df = pd.DataFrame(??)\n",
    "\n",
    "for k,v in inputs.items():\n",
    "    df[??] = 0\n",
    "    co_2 = ?? * ??\n",
    "    df[??] = co_2 * ??"
   ]
  },
  {
   "cell_type": "code",
   "execution_count": null,
   "id": "63c13831",
   "metadata": {},
   "outputs": [],
   "source": [
    "# print your updated dataframe\n",
    "df"
   ]
  },
  {
   "cell_type": "markdown",
   "id": "0fb8a365",
   "metadata": {},
   "source": [
    "Now, let's say that you wanted to run a Monte Carlo analysis to estimate your friend's daily carbon footprint from driving either a fossil fuelled car or an EV. We'll keep our random variables from above, but add in some monthly variability from a uniform distribution. With this, we can say in some months that your friend might drive more than others. We'll make a tight distribution between 0.7 and 1.2 and we'll run our analysis 100 times. (Here's where dictionaries really come in handy!)"
   ]
  },
  {
   "cell_type": "code",
   "execution_count": null,
   "id": "8711a6bb",
   "metadata": {},
   "outputs": [],
   "source": [
    "# start by defining our new random variables, which we can do in one line!\n",
    "np.random.seed(375)\n",
    "u_rvs = stats.uniform.rvs(loc=??,scale=??,size=??)\n",
    "    "
   ]
  },
  {
   "cell_type": "code",
   "execution_count": null,
   "id": "2bf878c0",
   "metadata": {},
   "outputs": [],
   "source": [
    "# now, we'll store each iteration of our calculation as a key (the run number) and value (our dataframe) pair\n",
    "# in a dictionary - to start, we make an empty dictionary\n",
    "results = {}\n",
    "\n",
    "# then we build our loop for the Monte Carlo analysis\n",
    "# loop over the 100 iterations (you can make a print statement if you like) and calculate values\n",
    "for i in range(len(??)):\n",
    "#     print(f'Running iteration {i}...')\n",
    "    df = pd.DataFrame(??)\n",
    "    for k,v in inputs.items():\n",
    "        df[??] = 0\n",
    "        co_2 = ?? * ?? * ??\n",
    "        df[??] = co_2 * ?? \n",
    "        results[??] = df"
   ]
  },
  {
   "cell_type": "code",
   "execution_count": null,
   "id": "768d671b",
   "metadata": {},
   "outputs": [],
   "source": [
    "# now try pulling the 91st iteration\n",
    "results[??]"
   ]
  },
  {
   "cell_type": "markdown",
   "id": "f1e4a67b",
   "metadata": {},
   "source": [
    "Now let's make a plot that shows the variability across the 28 days and another that shows the cumulative emissions across the 28 days. First, let's plot the average values for each \"day\" with a shaded region for the highs and lows. Remember that you can always consult the package documentation if you are looking for something - <code> matplotlib</code> information is <a href=https://matplotlib.org>here</a>, for example. You may also find things like the <a href=https://matplotlib.org/cheatsheets/>\"cheat sheets\"</a> a useful quick reference."
   ]
  },
  {
   "cell_type": "code",
   "execution_count": null,
   "id": "959e9eba",
   "metadata": {},
   "outputs": [],
   "source": [
    "# we can easily compile our data from our dictionary into a \"long format\" data frame and\n",
    "# make good use of the pandas \"groupby\" function.\n",
    "\n",
    "long_df = pd.DataFrame()\n",
    "\n",
    "for k,v in results.items():\n",
    "        # store each results dataframe as a temporary variable\n",
    "        temp = ??\n",
    "        # calculate cumulative sums\n",
    "        temp['ff_cumulative'] = temp.??.??()\n",
    "        temp['ev_cumulative'] = temp.??.??()\n",
    "        # add our calculations all to one \"long\" dataframe\n",
    "        long_df = pd.concat([long_df,temp])"
   ]
  },
  {
   "cell_type": "code",
   "execution_count": null,
   "id": "d7bdf775",
   "metadata": {},
   "outputs": [],
   "source": [
    "# now we'll make a plot of daily values using our long format data to calculate averages, mins, and maxes \n",
    "\n",
    "fig, ax = plt.subplots(figsize=(10,10))\n",
    "\n",
    "# get a list of the \"days\"\n",
    "x = long_df['day'].unique().to??()\n",
    "# use the groupby function to calculate the mean, min, and max\n",
    "avg = long_df.groupby(['day']).??()\n",
    "maxvals = long_df.groupby(['day']).??()\n",
    "minvals = long_df.groupby(['day']).??()\n",
    "\n",
    "# plot our lines and shaded regions\n",
    "ax.plot(x, avg['transport_ff'])\n",
    "ax.fill_between(x,minvals['transport_ff'],maxvals['transport_ff'],alpha=0.2,label='_nolegend_')\n",
    "\n",
    "ax.plot(x, avg['transport_ev'])\n",
    "ax.fill_between(x,minvals['transport_ev'],maxvals['transport_ev'],alpha=0.2,label='_nolegend_')\n",
    "\n",
    "# set some legend parameters\n",
    "legend_props = {'weight': 'bold', 'size': 12}\n",
    "plt.legend(['Fossil','EVs'], loc='upper left', prop=legend_props) \n",
    "\n",
    "# set some labels\n",
    "ax.set_xlabel('??')\n",
    "ax.set_ylabel('?? CO$_{2}$ Emissions (??)')\n"
   ]
  },
  {
   "cell_type": "markdown",
   "id": "2b020df2",
   "metadata": {},
   "source": [
    "Now, let's make a plot of cumulative emissions with the highs and lows shaded like before. We're going to change the default colours too - if you want to choose your own, you can replace the hex values below as you like."
   ]
  },
  {
   "cell_type": "code",
   "execution_count": null,
   "id": "11ec661e",
   "metadata": {},
   "outputs": [],
   "source": [
    "# we'll make a cumulative plot using some of the data from above and cumulative values\n",
    "# this time, let's pull all the values into variables to call when plotting\n",
    "\n",
    "c_ff = avg['ff_cumulative']\n",
    "c_ev = avg['ev_cumulative']\n",
    "c_minff = minvals['ff_cumulative']\n",
    "c_minev = minvals['ev_cumulative']\n",
    "c_maxff = maxvals['ff_cumulative']\n",
    "c_maxev = maxvals['ev_cumulative']\n",
    "\n",
    "# adjust the plot colours by setting them manually\n",
    "colours = ['#D11149','#093824']\n",
    "\n",
    "fig, ax = plt.subplots(figsize=(10,10))\n",
    "\n",
    "# plot the FF values\n",
    "ax.plot(x, ??,color=colours[??])\n",
    "ax.fill_between(x,??,??,alpha=0.2,label='_nolegend_',color=colours[??])\n",
    "\n",
    "# plot the EV values\n",
    "ax.plot(x, ??,color=colours[??])\n",
    "ax.fill_between(x,??,??,alpha=0.2,label='_nolegend_')\n",
    "\n",
    "# set some legend parameters\n",
    "legend_props = {'weight': 'bold', 'size': 12}\n",
    "plt.legend(['Fossil','EVs'], loc='upper left', prop=legend_props) \n",
    "\n",
    "# add a grid to the plot and some labels\n",
    "ax.grid(axis='y',zorder=0,alpha=0.25)\n",
    "ax.set_xlabel('??')\n",
    "ax.set_ylabel('?? CO$_{2}$ Emissions (??)')\n",
    "\n"
   ]
  },
  {
   "cell_type": "markdown",
   "id": "0dd17fc9",
   "metadata": {},
   "source": [
    "As a challenge for home, you can put some of these calculations into a function (like the very simple \"hello world!\" example at the beginning of the tutorial). Give this a try if you like! "
   ]
  },
  {
   "cell_type": "code",
   "execution_count": null,
   "id": "ed2e04f1",
   "metadata": {},
   "outputs": [],
   "source": []
  }
 ],
 "metadata": {
  "kernelspec": {
   "display_name": "Python 3 (ipykernel)",
   "language": "python",
   "name": "python3"
  },
  "language_info": {
   "codemirror_mode": {
    "name": "ipython",
    "version": 3
   },
   "file_extension": ".py",
   "mimetype": "text/x-python",
   "name": "python",
   "nbconvert_exporter": "python",
   "pygments_lexer": "ipython3",
   "version": "3.9.12"
  }
 },
 "nbformat": 4,
 "nbformat_minor": 5
}
